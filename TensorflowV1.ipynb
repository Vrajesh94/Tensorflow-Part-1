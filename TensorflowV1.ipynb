{
 "cells": [
  {
   "cell_type": "code",
   "execution_count": 4,
   "metadata": {
    "scrolled": true
   },
   "outputs": [],
   "source": [
    "import tensorflow as tf"
   ]
  },
  {
   "cell_type": "code",
   "execution_count": 5,
   "metadata": {},
   "outputs": [],
   "source": [
    "tens=tf.constant(value='My first program using tensorflow')"
   ]
  },
  {
   "cell_type": "code",
   "execution_count": 6,
   "metadata": {},
   "outputs": [
    {
     "data": {
      "text/plain": [
       "<tf.Tensor 'Const_1:0' shape=() dtype=string>"
      ]
     },
     "execution_count": 6,
     "metadata": {},
     "output_type": "execute_result"
    }
   ],
   "source": [
    "tens"
   ]
  },
  {
   "cell_type": "code",
   "execution_count": 7,
   "metadata": {},
   "outputs": [
    {
     "data": {
      "text/plain": [
       "tensorflow.python.framework.ops.Tensor"
      ]
     },
     "execution_count": 7,
     "metadata": {},
     "output_type": "execute_result"
    }
   ],
   "source": [
    "type(tens)"
   ]
  },
  {
   "cell_type": "code",
   "execution_count": 8,
   "metadata": {},
   "outputs": [],
   "source": [
    "sess=tf.Session()"
   ]
  },
  {
   "cell_type": "code",
   "execution_count": 9,
   "metadata": {},
   "outputs": [],
   "source": [
    "output=sess.run(tens)"
   ]
  },
  {
   "cell_type": "code",
   "execution_count": 10,
   "metadata": {},
   "outputs": [],
   "source": [
    "sess.close()"
   ]
  },
  {
   "cell_type": "code",
   "execution_count": 11,
   "metadata": {},
   "outputs": [
    {
     "data": {
      "text/plain": [
       "b'My first program using tensorflow'"
      ]
     },
     "execution_count": 11,
     "metadata": {},
     "output_type": "execute_result"
    }
   ],
   "source": [
    "output"
   ]
  },
  {
   "cell_type": "code",
   "execution_count": 12,
   "metadata": {},
   "outputs": [],
   "source": [
    "with tf.Session() as sess:\n",
    "    output1=sess.run(tens)"
   ]
  },
  {
   "cell_type": "code",
   "execution_count": 13,
   "metadata": {},
   "outputs": [
    {
     "data": {
      "text/plain": [
       "b'My first program using tensorflow'"
      ]
     },
     "execution_count": 13,
     "metadata": {},
     "output_type": "execute_result"
    }
   ],
   "source": [
    "output1"
   ]
  },
  {
   "cell_type": "code",
   "execution_count": 14,
   "metadata": {
    "scrolled": true
   },
   "outputs": [],
   "source": [
    "val1=tf.constant(value=100,name=\"x\",dtype=tf.int32)"
   ]
  },
  {
   "cell_type": "code",
   "execution_count": 15,
   "metadata": {},
   "outputs": [
    {
     "data": {
      "text/plain": [
       "<tf.Tensor 'x:0' shape=() dtype=int32>"
      ]
     },
     "execution_count": 15,
     "metadata": {},
     "output_type": "execute_result"
    }
   ],
   "source": [
    "val1"
   ]
  },
  {
   "cell_type": "code",
   "execution_count": 17,
   "metadata": {
    "scrolled": true
   },
   "outputs": [
    {
     "data": {
      "text/plain": [
       "<tf.Tensor 'Rank:0' shape=() dtype=int32>"
      ]
     },
     "execution_count": 17,
     "metadata": {},
     "output_type": "execute_result"
    }
   ],
   "source": [
    "tf.rank(val1)"
   ]
  },
  {
   "cell_type": "code",
   "execution_count": 18,
   "metadata": {},
   "outputs": [],
   "source": [
    "val2=tf.constant(value=200,name=\"y\",dtype=tf.int32)"
   ]
  },
  {
   "cell_type": "code",
   "execution_count": 19,
   "metadata": {
    "scrolled": true
   },
   "outputs": [
    {
     "name": "stdout",
     "output_type": "stream",
     "text": [
      "100 400 400.0 400.0\n"
     ]
    }
   ],
   "source": [
    "with tf.Session() as sess:\n",
    "    output2=sess.run(val1)\n",
    "    val3=tf.add(val1,val2,name=\"add\")\n",
    "    val4=tf.subtract(val2,val1,name=\"sub\")\n",
    "    val5=tf.add(val3,val4,name=\"z\")\n",
    "    val6=tf.cast(val5,tf.float32)\n",
    "    val7=tf.to_float(val5)\n",
    "    output2,output3,output4,output5=sess.run([val1,val5,val6,val7])\n",
    "    print(output2,output3,output4,output5)"
   ]
  },
  {
   "cell_type": "code",
   "execution_count": 22,
   "metadata": {},
   "outputs": [],
   "source": [
    "x=tf.fill(value=5,dims=(3,4))"
   ]
  },
  {
   "cell_type": "code",
   "execution_count": 23,
   "metadata": {},
   "outputs": [],
   "source": [
    "y=tf.constant([1,2,4,8,6,4,9,1,3,5,7,3],shape=(3,4))"
   ]
  },
  {
   "cell_type": "code",
   "execution_count": 24,
   "metadata": {},
   "outputs": [],
   "source": [
    "y1=tf.constant([1,2,4,8,6,4,9,1,3,5,7,3],shape=(4,3))"
   ]
  },
  {
   "cell_type": "code",
   "execution_count": 25,
   "metadata": {},
   "outputs": [],
   "source": [
    "y2=tf.zeros(shape=(2,3),dtype=tf.float32)"
   ]
  },
  {
   "cell_type": "code",
   "execution_count": 26,
   "metadata": {},
   "outputs": [
    {
     "name": "stdout",
     "output_type": "stream",
     "text": [
      "X: \n",
      " [[5 5 5 5]\n",
      " [5 5 5 5]\n",
      " [5 5 5 5]]\n",
      "Y:\n",
      " [[1 2 4 8]\n",
      " [6 4 9 1]\n",
      " [3 5 7 3]]\n",
      "\n",
      "\n",
      "Zeros:\n",
      " [[0. 0. 0.]\n",
      " [0. 0. 0.]]\n",
      "Number of dimensions of tensor x & y:  2 , 2\n",
      "\n",
      "Add:\n",
      " [[ 6  7  9 13]\n",
      " [11  9 14  6]\n",
      " [ 8 10 12  8]]\n",
      "Subtract: \n",
      " [[ 4  3  1 -3]\n",
      " [-1  1 -4  4]\n",
      " [ 2  0 -2  2]]\n",
      "Multiply: \n",
      " [[ 5 10 20 40]\n",
      " [30 20 45  5]\n",
      " [15 25 35 15]]\n",
      "Elementwise Division:\n",
      " [[5 2 1 0]\n",
      " [0 1 0 5]\n",
      " [1 1 0 1]]\n",
      "Division: \n",
      " [[5.         2.5        1.25       0.625     ]\n",
      " [0.83333333 1.25       0.55555556 5.        ]\n",
      " [1.66666667 1.         0.71428571 1.66666667]]\n",
      "Power: \n",
      " [[ 1  4 16 64]\n",
      " [36 16 81  1]\n",
      " [ 9 25 49  9]]\n",
      "Greater than or Equal to 6: \n",
      " [[False False False  True]\n",
      " [ True False  True False]\n",
      " [False False  True False]]\n",
      "Greater than 6: \n",
      " [[False False False  True]\n",
      " [False False  True False]\n",
      " [False False  True False]]\n",
      "Less than or Equal to 6: \n",
      " [[ True  True  True False]\n",
      " [ True  True False  True]\n",
      " [ True  True False  True]]\n",
      "Less than 6: \n",
      " [[ True  True  True False]\n",
      " [False  True False  True]\n",
      " [ True  True False  True]]\n",
      "Equal to 6: \n",
      " [[False False False False]\n",
      " [ True False False False]\n",
      " [False False False False]]\n",
      "Concatenation by rows: \n",
      " [[5 5 5 5]\n",
      " [5 5 5 5]\n",
      " [5 5 5 5]\n",
      " [1 2 4 8]\n",
      " [6 4 9 1]\n",
      " [3 5 7 3]]\n",
      "Concatenation by columns: \n",
      " [[5 5 5 5 1 2 4 8]\n",
      " [5 5 5 5 6 4 9 1]\n",
      " [5 5 5 5 3 5 7 3]]\n",
      "All values greater than or equal to 1: \n",
      " True\n"
     ]
    }
   ],
   "source": [
    "with tf.Session() as sess:\n",
    "    z=tf.add(x,y)\n",
    "    z4=tf.subtract(x,y)\n",
    "    z5=tf.multiply(x,y)\n",
    "    z6=tf.matmul(x,y1)\n",
    "    z6=tf.div(x,y)\n",
    "    z7=tf.divide(x,y)\n",
    "    z8=tf.pow(y,2)\n",
    "    z9=tf.concat([x,y],axis=0)\n",
    "    z10=tf.concat([x,y],axis=1)\n",
    "    z1=tf.greater_equal(y,6)\n",
    "    z11=tf.greater(y,6)\n",
    "    z12=tf.less_equal(y,6)\n",
    "    z13=tf.less(y,6)\n",
    "    z14=tf.equal(y,6)\n",
    "    z2=tf.reduce_all(tf.greater_equal(y,1))\n",
    "    print(\"X: \\n\",sess.run(x))\n",
    "    print(\"Y:\\n\",sess.run(y))\n",
    "    out,out1,out2,out3,out4,out5,out6,out7,out8,out9,out10,out11,out12,out13=sess.run([z,z1,z4,z5,z6,z7,z8,z9,z10,z11,\n",
    "                                                                                       z12,z13,z14,z2])\n",
    "    print('\\n')\n",
    "    print(\"Zeros:\\n\",sess.run(y2))\n",
    "    print(\"Number of dimensions of tensor x & y: \",sess.run(tf.rank(x)),\",\",sess.run(tf.rank(y)))\n",
    "    print(\"\\nAdd:\\n\", out)\n",
    "    print(\"Subtract: \\n\",out2)\n",
    "    print(\"Multiply: \\n\",out3)\n",
    "    print(\"Elementwise Division:\\n\",out4)\n",
    "    print(\"Division: \\n\",out5)\n",
    "    print(\"Power: \\n\",out6)\n",
    "    print(\"Greater than or Equal to 6: \\n\",out1)\n",
    "    print(\"Greater than 6: \\n\",out9)\n",
    "    print(\"Less than or Equal to 6: \\n\",out10)\n",
    "    print(\"Less than 6: \\n\",out11)\n",
    "    print(\"Equal to 6: \\n\",out12)\n",
    "    print(\"Concatenation by rows: \\n\",out7)\n",
    "    print(\"Concatenation by columns: \\n\",out8)\n",
    "    print(\"All values greater than or equal to 1: \\n\",out13)"
   ]
  },
  {
   "cell_type": "code",
   "execution_count": null,
   "metadata": {},
   "outputs": [],
   "source": []
  }
 ],
 "metadata": {
  "kernelspec": {
   "display_name": "Python 3",
   "language": "python",
   "name": "python3"
  },
  "language_info": {
   "codemirror_mode": {
    "name": "ipython",
    "version": 3
   },
   "file_extension": ".py",
   "mimetype": "text/x-python",
   "name": "python",
   "nbconvert_exporter": "python",
   "pygments_lexer": "ipython3",
   "version": "3.6.5"
  }
 },
 "nbformat": 4,
 "nbformat_minor": 2
}
